{
 "cells": [
  {
   "cell_type": "code",
   "execution_count": null,
   "id": "741f611f",
   "metadata": {
    "ExecuteTime": {
     "end_time": "2023-06-10T02:07:40.453646Z",
     "start_time": "2023-06-10T02:07:35.297472Z"
    }
   },
   "outputs": [],
   "source": [
    "!pip install pyroomacoustics\n"
   ]
  },
  {
   "cell_type": "code",
   "execution_count": 1,
   "id": "1d94b623",
   "metadata": {
    "ExecuteTime": {
     "end_time": "2023-06-13T08:43:19.111883Z",
     "start_time": "2023-06-13T08:43:17.888902Z"
    }
   },
   "outputs": [],
   "source": [
    "import numpy as np\n",
    "import pandas as pd\n",
    "import librosa as lr\n",
    "import glob\n",
    "import os\n",
    "from pyroomacoustics.experimental.rt60 import measure_rt60\n",
    "\n",
    "from IPython.display import Audio"
   ]
  },
  {
   "cell_type": "code",
   "execution_count": 2,
   "id": "608f2abc",
   "metadata": {
    "ExecuteTime": {
     "end_time": "2023-06-13T08:43:21.591344Z",
     "start_time": "2023-06-13T08:43:21.552352Z"
    }
   },
   "outputs": [],
   "source": [
    "rir_df = pd.read_csv('/home/cxw/sonos_rirs/reverb_audio/080322_10K/audio_df.csv')"
   ]
  },
  {
   "cell_type": "code",
   "execution_count": 3,
   "id": "4a57b412",
   "metadata": {
    "ExecuteTime": {
     "end_time": "2023-06-13T08:22:50.379122Z",
     "start_time": "2023-06-13T08:22:48.897770Z"
    }
   },
   "outputs": [],
   "source": [
    "# sr = 16000\n",
    "# rir_sample, _ = lr.load(rir_df.iloc[200]['file'], sr=sr)"
   ]
  },
  {
   "cell_type": "code",
   "execution_count": 4,
   "id": "db244a48",
   "metadata": {
    "ExecuteTime": {
     "end_time": "2023-06-13T08:43:29.096105Z",
     "start_time": "2023-06-13T08:43:29.084130Z"
    }
   },
   "outputs": [],
   "source": [
    "def compute_rt60(rir_path, sr=16000):\n",
    "    rir, _ = lr.load(rir_path, sr=sr)\n",
    "    rt60 = measure_rt60(rir, fs=sr)\n",
    "    return rt60"
   ]
  },
  {
   "cell_type": "code",
   "execution_count": 5,
   "id": "9074ceff",
   "metadata": {
    "ExecuteTime": {
     "end_time": "2023-06-13T08:50:42.528190Z",
     "start_time": "2023-06-13T08:50:30.018569Z"
    },
    "tags": []
   },
   "outputs": [],
   "source": [
    "files = rir_df['file_rir'].tolist()\n",
    "rt60_dict = {}\n",
    "bad_files = []\n",
    "for file in files:\n",
    "    try:\n",
    "        rt60 = compute_rt60(file)\n",
    "    except:\n",
    "        print(file)\n",
    "        bad_files.append(file)\n",
    "        continue\n",
    "    rt60_dict[file] = rt60"
   ]
  },
  {
   "cell_type": "code",
   "execution_count": 6,
   "id": "6c11381c",
   "metadata": {
    "ExecuteTime": {
     "end_time": "2023-06-13T08:51:23.721473Z",
     "start_time": "2023-06-13T08:51:12.200423Z"
    },
    "scrolled": true,
    "tags": []
   },
   "outputs": [],
   "source": [
    "rt60_list = []\n",
    "for row in rir_df.iterrows():\n",
    "    file = row[1]['file_rir']\n",
    "    try:\n",
    "        rt60 = compute_rt60(file)\n",
    "    except:\n",
    "        print(file)\n",
    "        rt60 = None\n",
    "        pass\n",
    "    rt60_list.append(rt60)\n",
    "rir_df['computed_rt60'] = rt60_list"
   ]
  },
  {
   "cell_type": "code",
   "execution_count": 14,
   "id": "312022f3",
   "metadata": {
    "ExecuteTime": {
     "end_time": "2023-06-13T08:51:26.898334Z",
     "start_time": "2023-06-13T08:51:26.863914Z"
    },
    "scrolled": true
   },
   "outputs": [],
   "source": [
    "rooms = rir_df['room'].unique()\n",
    "gb_room = rir_df.groupby('room')\n",
    "mean_rt60_dict = {}\n",
    "for room in rooms:\n",
    "    mean_rt60 = gb_room.get_group(room)['computed_rt60'].mean()\n",
    "    mean_rt60_dict[room] = mean_rt60"
   ]
  },
  {
   "cell_type": "code",
   "execution_count": 15,
   "id": "3f7a0446",
   "metadata": {
    "ExecuteTime": {
     "end_time": "2023-06-13T08:51:50.984497Z",
     "start_time": "2023-06-13T08:51:50.901197Z"
    }
   },
   "outputs": [],
   "source": [
    "rir_df['mean_rt60'] = rir_df['room'].apply(lambda row:mean_rt60_dict[row])\n",
    "rir_df.to_csv('/home/cxw/sonos_rirs/reverb_audio/080322_10K/audio_df.csv')"
   ]
  },
  {
   "cell_type": "code",
   "execution_count": null,
   "id": "144263ab",
   "metadata": {},
   "outputs": [],
   "source": []
  }
 ],
 "metadata": {
  "kernelspec": {
   "display_name": "cxwnotebook",
   "language": "python",
   "name": "cxwnotebook"
  },
  "language_info": {
   "codemirror_mode": {
    "name": "ipython",
    "version": 3
   },
   "file_extension": ".py",
   "mimetype": "text/x-python",
   "name": "python",
   "nbconvert_exporter": "python",
   "pygments_lexer": "ipython3",
   "version": "3.8.13"
  },
  "toc": {
   "base_numbering": 1,
   "nav_menu": {},
   "number_sections": true,
   "sideBar": true,
   "skip_h1_title": false,
   "title_cell": "Table of Contents",
   "title_sidebar": "Contents",
   "toc_cell": false,
   "toc_position": {},
   "toc_section_display": true,
   "toc_window_display": false
  }
 },
 "nbformat": 4,
 "nbformat_minor": 5
}
